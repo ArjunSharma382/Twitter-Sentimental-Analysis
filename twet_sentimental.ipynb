{
 "cells": [
  {
   "cell_type": "code",
   "execution_count": 1,
   "metadata": {},
   "outputs": [],
   "source": [
    "import nltk\n",
    "import re\n",
    "import pandas as pd\n",
    "import matplotlib.pyplot as plt\n",
    "import numpy as np"
   ]
  },
  {
   "cell_type": "code",
   "execution_count": 2,
   "metadata": {},
   "outputs": [],
   "source": [
    "df1 = pd.read_csv('C:/Users/arjun_0ozfyct/Documents/PYTHON/potus_tweets.csv')\n",
    "#df2 = pd.read_csv('C:/Users/arjun_0ozfyct/Documents/PYTHON/twitter_Res2.csv')\n",
    "#df3 = pd.read_csv('C:/Users/arjun_0ozfyct/Documents/PYTHON/twitter_Res3.csv')\n",
    "#df4 = pd.read_csv('C:/Users/arjun_0ozfyct/Documents/PYTHON/twitter_Res4.csv')\n",
    "#df5 = pd.read_csv('C:/Users/arjun_0ozfyct/Documents/PYTHON/twitter_Res5.csv')\n",
    "#df6 = pd.read_csv('C:/Users/arjun_0ozfyct/Documents/PYTHON/twitter5.csv')\n",
    "#df7 = pd.read_csv('C:/Users/arjun_0ozfyct/Documents/PYTHON/twitter6.csv')\n",
    "#df8 = pd.read_csv('C:/Users/arjun_0ozfyct/Documents/PYTHON/twitter7.csv')\n",
    "#df9 = pd.read_csv('C:/Users/arjun_0ozfyct/Documents/PYTHON/twitter8.csv')\n",
    "#df10 = pd.read_csv('C:/Users/arjun_0ozfyct/Documents/PYTHON/twitter9.csv')"
   ]
  },
  {
   "cell_type": "code",
   "execution_count": 4,
   "metadata": {},
   "outputs": [
    {
     "data": {
      "text/html": [
       "<div>\n",
       "<style scoped>\n",
       "    .dataframe tbody tr th:only-of-type {\n",
       "        vertical-align: middle;\n",
       "    }\n",
       "\n",
       "    .dataframe tbody tr th {\n",
       "        vertical-align: top;\n",
       "    }\n",
       "\n",
       "    .dataframe thead th {\n",
       "        text-align: right;\n",
       "    }\n",
       "</style>\n",
       "<table border=\"1\" class=\"dataframe\">\n",
       "  <thead>\n",
       "    <tr style=\"text-align: right;\">\n",
       "      <th></th>\n",
       "      <th>Date</th>\n",
       "      <th>Time</th>\n",
       "      <th>Tweet</th>\n",
       "      <th>Client</th>\n",
       "    </tr>\n",
       "  </thead>\n",
       "  <tbody>\n",
       "    <tr>\n",
       "      <th>0</th>\n",
       "      <td>12/05/2016</td>\n",
       "      <td>12:00:27 PM</td>\n",
       "      <td>If the press would cover me accurately &amp; honor...</td>\n",
       "      <td>Twitter Web Client</td>\n",
       "    </tr>\n",
       "    <tr>\n",
       "      <th>1</th>\n",
       "      <td>12/05/2016</td>\n",
       "      <td>9:53:11 AM</td>\n",
       "      <td>I am thrilled to nominate Dr. @RealBenCarson a...</td>\n",
       "      <td>Twitter for iPhone</td>\n",
       "    </tr>\n",
       "    <tr>\n",
       "      <th>2</th>\n",
       "      <td>12/04/2016</td>\n",
       "      <td>6:30:22 PM</td>\n",
       "      <td>their country (the U.S. doesn't tax them) or t...</td>\n",
       "      <td>Twitter for Android</td>\n",
       "    </tr>\n",
       "    <tr>\n",
       "      <th>3</th>\n",
       "      <td>12/04/2016</td>\n",
       "      <td>6:23:55 PM</td>\n",
       "      <td>Did China ask us if it was OK to devalue their...</td>\n",
       "      <td>Twitter for Android</td>\n",
       "    </tr>\n",
       "    <tr>\n",
       "      <th>4</th>\n",
       "      <td>12/04/2016</td>\n",
       "      <td>5:47:21 PM</td>\n",
       "      <td>.@FoxNews will be re-running \"Objectified: Don...</td>\n",
       "      <td>Twitter for Android</td>\n",
       "    </tr>\n",
       "  </tbody>\n",
       "</table>\n",
       "</div>"
      ],
      "text/plain": [
       "         Date         Time                                              Tweet  \\\n",
       "0  12/05/2016  12:00:27 PM  If the press would cover me accurately & honor...   \n",
       "1  12/05/2016   9:53:11 AM  I am thrilled to nominate Dr. @RealBenCarson a...   \n",
       "2  12/04/2016   6:30:22 PM  their country (the U.S. doesn't tax them) or t...   \n",
       "3  12/04/2016   6:23:55 PM  Did China ask us if it was OK to devalue their...   \n",
       "4  12/04/2016   5:47:21 PM  .@FoxNews will be re-running \"Objectified: Don...   \n",
       "\n",
       "                Client  \n",
       "0   Twitter Web Client  \n",
       "1   Twitter for iPhone  \n",
       "2  Twitter for Android  \n",
       "3  Twitter for Android  \n",
       "4  Twitter for Android  "
      ]
     },
     "execution_count": 4,
     "metadata": {},
     "output_type": "execute_result"
    }
   ],
   "source": [
    "df1.head()\n",
    "#df = pd.concat([df1,df2,df3,df4,df5])\n",
    "#df.reset_index(inplace=True, drop=True)"
   ]
  },
  {
   "cell_type": "code",
   "execution_count": 8,
   "metadata": {},
   "outputs": [],
   "source": [
    "#Tweet Clearing\n",
    "Clean_Tweet = []\n",
    "for i in df.Tweet:\n",
    "    Clean_Tweet.append(' '.join(re.sub(\"(@[A-Za-z0-9]+)|([^0-9A-Za-z \\t])|(\\w+:\\/\\/\\S+)\", \" \", i.lower()).split()))\n",
    "df['Clean_Tweet'] = Clean_Tweet"
   ]
  },
  {
   "cell_type": "code",
   "execution_count": 9,
   "metadata": {},
   "outputs": [],
   "source": [
    "#Removing stopwords\n",
    "#nltk.download('stopwords')\n",
    "from nltk.corpus import stopwords\n",
    "stop_words = set(stopwords.words('english'))\n",
    "filtered_tweet = [w for w in df.Clean_Tweet if not w in stop_words]"
   ]
  },
  {
   "cell_type": "code",
   "execution_count": 10,
   "metadata": {
    "scrolled": true
   },
   "outputs": [
    {
     "data": {
      "text/html": [
       "<div>\n",
       "<style scoped>\n",
       "    .dataframe tbody tr th:only-of-type {\n",
       "        vertical-align: middle;\n",
       "    }\n",
       "\n",
       "    .dataframe tbody tr th {\n",
       "        vertical-align: top;\n",
       "    }\n",
       "\n",
       "    .dataframe thead th {\n",
       "        text-align: right;\n",
       "    }\n",
       "</style>\n",
       "<table border=\"1\" class=\"dataframe\">\n",
       "  <thead>\n",
       "    <tr style=\"text-align: right;\">\n",
       "      <th></th>\n",
       "      <th>Unnamed: 0</th>\n",
       "      <th>Tweet</th>\n",
       "      <th>Length</th>\n",
       "      <th>Is_RT</th>\n",
       "      <th>ID</th>\n",
       "      <th>Date</th>\n",
       "      <th>Source</th>\n",
       "      <th>Retweets</th>\n",
       "      <th>Clean_Tweet</th>\n",
       "      <th>filtered_tweet</th>\n",
       "    </tr>\n",
       "  </thead>\n",
       "  <tbody>\n",
       "    <tr>\n",
       "      <th>285</th>\n",
       "      <td>65</td>\n",
       "      <td>@sudhaShenoy1 @narendramodi @PMOIndia Where ar...</td>\n",
       "      <td>319</td>\n",
       "      <td>1</td>\n",
       "      <td>1111260853137866752</td>\n",
       "      <td>2019-03-28 13:36:48</td>\n",
       "      <td>Twitter Web App</td>\n",
       "      <td>84</td>\n",
       "      <td>where are we headed sir is this the quality of...</td>\n",
       "      <td>where are we headed sir is this the quality of...</td>\n",
       "    </tr>\n",
       "    <tr>\n",
       "      <th>286</th>\n",
       "      <td>66</td>\n",
       "      <td>Here we go. First and foremost, will the #10Pe...</td>\n",
       "      <td>254</td>\n",
       "      <td>0</td>\n",
       "      <td>1111260436316340226</td>\n",
       "      <td>2019-03-28 13:35:08</td>\n",
       "      <td>Twitter for Android</td>\n",
       "      <td>2</td>\n",
       "      <td>here we go first and foremost will the 10perce...</td>\n",
       "      <td>here we go first and foremost will the 10perce...</td>\n",
       "    </tr>\n",
       "    <tr>\n",
       "      <th>287</th>\n",
       "      <td>67</td>\n",
       "      <td>#murderofmerit it's the impending doom that ha...</td>\n",
       "      <td>229</td>\n",
       "      <td>1</td>\n",
       "      <td>1111259757736660993</td>\n",
       "      <td>2019-03-28 13:32:27</td>\n",
       "      <td>Twitter for Android</td>\n",
       "      <td>15</td>\n",
       "      <td>murderofmerit it s the impending doom that has...</td>\n",
       "      <td>murderofmerit it s the impending doom that has...</td>\n",
       "    </tr>\n",
       "    <tr>\n",
       "      <th>288</th>\n",
       "      <td>68</td>\n",
       "      <td>@sudhaShenoy1 @narendramodi @PMOIndia Where ar...</td>\n",
       "      <td>319</td>\n",
       "      <td>1</td>\n",
       "      <td>1111259516178321409</td>\n",
       "      <td>2019-03-28 13:31:29</td>\n",
       "      <td>Twitter for Android</td>\n",
       "      <td>84</td>\n",
       "      <td>where are we headed sir is this the quality of...</td>\n",
       "      <td>where are we headed sir is this the quality of...</td>\n",
       "    </tr>\n",
       "    <tr>\n",
       "      <th>289</th>\n",
       "      <td>69</td>\n",
       "      <td>@sudhaShenoy1 @narendramodi @PMOIndia Where ar...</td>\n",
       "      <td>319</td>\n",
       "      <td>1</td>\n",
       "      <td>1111259231397675009</td>\n",
       "      <td>2019-03-28 13:30:21</td>\n",
       "      <td>Twitter Web App</td>\n",
       "      <td>84</td>\n",
       "      <td>where are we headed sir is this the quality of...</td>\n",
       "      <td>where are we headed sir is this the quality of...</td>\n",
       "    </tr>\n",
       "    <tr>\n",
       "      <th>290</th>\n",
       "      <td>70</td>\n",
       "      <td>#murderofmerit it's the impending doom that ha...</td>\n",
       "      <td>229</td>\n",
       "      <td>1</td>\n",
       "      <td>1111258886009425920</td>\n",
       "      <td>2019-03-28 13:28:59</td>\n",
       "      <td>Twitter for Android</td>\n",
       "      <td>15</td>\n",
       "      <td>murderofmerit it s the impending doom that has...</td>\n",
       "      <td>murderofmerit it s the impending doom that has...</td>\n",
       "    </tr>\n",
       "    <tr>\n",
       "      <th>291</th>\n",
       "      <td>71</td>\n",
       "      <td>@sudhaShenoy1 @narendramodi @PMOIndia Where ar...</td>\n",
       "      <td>319</td>\n",
       "      <td>1</td>\n",
       "      <td>1111258266669993989</td>\n",
       "      <td>2019-03-28 13:26:31</td>\n",
       "      <td>Twitter for iPhone</td>\n",
       "      <td>84</td>\n",
       "      <td>where are we headed sir is this the quality of...</td>\n",
       "      <td>where are we headed sir is this the quality of...</td>\n",
       "    </tr>\n",
       "    <tr>\n",
       "      <th>292</th>\n",
       "      <td>72</td>\n",
       "      <td>#murderofmerit it's the impending doom that ha...</td>\n",
       "      <td>229</td>\n",
       "      <td>1</td>\n",
       "      <td>1111257751085211653</td>\n",
       "      <td>2019-03-28 13:24:28</td>\n",
       "      <td>Twitter for Android</td>\n",
       "      <td>15</td>\n",
       "      <td>murderofmerit it s the impending doom that has...</td>\n",
       "      <td>murderofmerit it s the impending doom that has...</td>\n",
       "    </tr>\n",
       "    <tr>\n",
       "      <th>293</th>\n",
       "      <td>73</td>\n",
       "      <td>@CJI_SC sir kindly look into the reservation s...</td>\n",
       "      <td>251</td>\n",
       "      <td>1</td>\n",
       "      <td>1111257695485517825</td>\n",
       "      <td>2019-03-28 13:24:15</td>\n",
       "      <td>Twitter for Android</td>\n",
       "      <td>12</td>\n",
       "      <td>sc sir kindly look into the reservation status...</td>\n",
       "      <td>sc sir kindly look into the reservation status...</td>\n",
       "    </tr>\n",
       "    <tr>\n",
       "      <th>294</th>\n",
       "      <td>74</td>\n",
       "      <td>#murderofmerit it's the impending doom that ha...</td>\n",
       "      <td>229</td>\n",
       "      <td>1</td>\n",
       "      <td>1111257641928425472</td>\n",
       "      <td>2019-03-28 13:24:02</td>\n",
       "      <td>Twitter for Android</td>\n",
       "      <td>15</td>\n",
       "      <td>murderofmerit it s the impending doom that has...</td>\n",
       "      <td>murderofmerit it s the impending doom that has...</td>\n",
       "    </tr>\n",
       "    <tr>\n",
       "      <th>295</th>\n",
       "      <td>75</td>\n",
       "      <td>@sudhaShenoy1 @narendramodi @PMOIndia Where ar...</td>\n",
       "      <td>319</td>\n",
       "      <td>1</td>\n",
       "      <td>1111257338600513537</td>\n",
       "      <td>2019-03-28 13:22:50</td>\n",
       "      <td>Twitter for Android</td>\n",
       "      <td>84</td>\n",
       "      <td>where are we headed sir is this the quality of...</td>\n",
       "      <td>where are we headed sir is this the quality of...</td>\n",
       "    </tr>\n",
       "    <tr>\n",
       "      <th>296</th>\n",
       "      <td>76</td>\n",
       "      <td>@CJI_SC sir kindly look into the reservation s...</td>\n",
       "      <td>251</td>\n",
       "      <td>1</td>\n",
       "      <td>1111257247164891137</td>\n",
       "      <td>2019-03-28 13:22:28</td>\n",
       "      <td>Twitter for Android</td>\n",
       "      <td>12</td>\n",
       "      <td>sc sir kindly look into the reservation status...</td>\n",
       "      <td>sc sir kindly look into the reservation status...</td>\n",
       "    </tr>\n",
       "    <tr>\n",
       "      <th>297</th>\n",
       "      <td>77</td>\n",
       "      <td>Join us in a #tweetchat with @_maadhyam_ as we...</td>\n",
       "      <td>268</td>\n",
       "      <td>1</td>\n",
       "      <td>1111257197990703104</td>\n",
       "      <td>2019-03-28 13:22:16</td>\n",
       "      <td>Twitter for Android</td>\n",
       "      <td>4</td>\n",
       "      <td>join us in a tweetchat with maadhyam as we ope...</td>\n",
       "      <td>join us in a tweetchat with maadhyam as we ope...</td>\n",
       "    </tr>\n",
       "    <tr>\n",
       "      <th>298</th>\n",
       "      <td>78</td>\n",
       "      <td>@CJI_SC sir kindly look into the reservation s...</td>\n",
       "      <td>251</td>\n",
       "      <td>1</td>\n",
       "      <td>1111257033741762565</td>\n",
       "      <td>2019-03-28 13:21:37</td>\n",
       "      <td>Twitter Web App</td>\n",
       "      <td>12</td>\n",
       "      <td>sc sir kindly look into the reservation status...</td>\n",
       "      <td>sc sir kindly look into the reservation status...</td>\n",
       "    </tr>\n",
       "  </tbody>\n",
       "</table>\n",
       "</div>"
      ],
      "text/plain": [
       "     Unnamed: 0                                              Tweet  Length  \\\n",
       "285          65  @sudhaShenoy1 @narendramodi @PMOIndia Where ar...     319   \n",
       "286          66  Here we go. First and foremost, will the #10Pe...     254   \n",
       "287          67  #murderofmerit it's the impending doom that ha...     229   \n",
       "288          68  @sudhaShenoy1 @narendramodi @PMOIndia Where ar...     319   \n",
       "289          69  @sudhaShenoy1 @narendramodi @PMOIndia Where ar...     319   \n",
       "290          70  #murderofmerit it's the impending doom that ha...     229   \n",
       "291          71  @sudhaShenoy1 @narendramodi @PMOIndia Where ar...     319   \n",
       "292          72  #murderofmerit it's the impending doom that ha...     229   \n",
       "293          73  @CJI_SC sir kindly look into the reservation s...     251   \n",
       "294          74  #murderofmerit it's the impending doom that ha...     229   \n",
       "295          75  @sudhaShenoy1 @narendramodi @PMOIndia Where ar...     319   \n",
       "296          76  @CJI_SC sir kindly look into the reservation s...     251   \n",
       "297          77  Join us in a #tweetchat with @_maadhyam_ as we...     268   \n",
       "298          78  @CJI_SC sir kindly look into the reservation s...     251   \n",
       "\n",
       "     Is_RT                   ID                 Date               Source  \\\n",
       "285      1  1111260853137866752  2019-03-28 13:36:48      Twitter Web App   \n",
       "286      0  1111260436316340226  2019-03-28 13:35:08  Twitter for Android   \n",
       "287      1  1111259757736660993  2019-03-28 13:32:27  Twitter for Android   \n",
       "288      1  1111259516178321409  2019-03-28 13:31:29  Twitter for Android   \n",
       "289      1  1111259231397675009  2019-03-28 13:30:21      Twitter Web App   \n",
       "290      1  1111258886009425920  2019-03-28 13:28:59  Twitter for Android   \n",
       "291      1  1111258266669993989  2019-03-28 13:26:31   Twitter for iPhone   \n",
       "292      1  1111257751085211653  2019-03-28 13:24:28  Twitter for Android   \n",
       "293      1  1111257695485517825  2019-03-28 13:24:15  Twitter for Android   \n",
       "294      1  1111257641928425472  2019-03-28 13:24:02  Twitter for Android   \n",
       "295      1  1111257338600513537  2019-03-28 13:22:50  Twitter for Android   \n",
       "296      1  1111257247164891137  2019-03-28 13:22:28  Twitter for Android   \n",
       "297      1  1111257197990703104  2019-03-28 13:22:16  Twitter for Android   \n",
       "298      1  1111257033741762565  2019-03-28 13:21:37      Twitter Web App   \n",
       "\n",
       "     Retweets                                        Clean_Tweet  \\\n",
       "285        84  where are we headed sir is this the quality of...   \n",
       "286         2  here we go first and foremost will the 10perce...   \n",
       "287        15  murderofmerit it s the impending doom that has...   \n",
       "288        84  where are we headed sir is this the quality of...   \n",
       "289        84  where are we headed sir is this the quality of...   \n",
       "290        15  murderofmerit it s the impending doom that has...   \n",
       "291        84  where are we headed sir is this the quality of...   \n",
       "292        15  murderofmerit it s the impending doom that has...   \n",
       "293        12  sc sir kindly look into the reservation status...   \n",
       "294        15  murderofmerit it s the impending doom that has...   \n",
       "295        84  where are we headed sir is this the quality of...   \n",
       "296        12  sc sir kindly look into the reservation status...   \n",
       "297         4  join us in a tweetchat with maadhyam as we ope...   \n",
       "298        12  sc sir kindly look into the reservation status...   \n",
       "\n",
       "                                        filtered_tweet  \n",
       "285  where are we headed sir is this the quality of...  \n",
       "286  here we go first and foremost will the 10perce...  \n",
       "287  murderofmerit it s the impending doom that has...  \n",
       "288  where are we headed sir is this the quality of...  \n",
       "289  where are we headed sir is this the quality of...  \n",
       "290  murderofmerit it s the impending doom that has...  \n",
       "291  where are we headed sir is this the quality of...  \n",
       "292  murderofmerit it s the impending doom that has...  \n",
       "293  sc sir kindly look into the reservation status...  \n",
       "294  murderofmerit it s the impending doom that has...  \n",
       "295  where are we headed sir is this the quality of...  \n",
       "296  sc sir kindly look into the reservation status...  \n",
       "297  join us in a tweetchat with maadhyam as we ope...  \n",
       "298  sc sir kindly look into the reservation status...  "
      ]
     },
     "execution_count": 10,
     "metadata": {},
     "output_type": "execute_result"
    }
   ],
   "source": [
    "df['filtered_tweet'] = filtered_tweet\n",
    "df[285:299]"
   ]
  },
  {
   "cell_type": "code",
   "execution_count": 11,
   "metadata": {},
   "outputs": [],
   "source": [
    "from textblob import TextBlob"
   ]
  },
  {
   "cell_type": "code",
   "execution_count": 12,
   "metadata": {},
   "outputs": [],
   "source": [
    "def sentiment_analysis(tweet):\n",
    "    analysis = TextBlob(tweet)\n",
    "    if analysis.sentiment.polarity > 0:\n",
    "        return 1\n",
    "    elif analysis.sentiment.polarity == 0:\n",
    "        return 0\n",
    "    else:\n",
    "        return -1"
   ]
  },
  {
   "cell_type": "code",
   "execution_count": 13,
   "metadata": {},
   "outputs": [],
   "source": [
    "df['sentiment'] = np.array([sentiment_analysis(tweet) for tweet in df['filtered_tweet']])"
   ]
  },
  {
   "cell_type": "code",
   "execution_count": 14,
   "metadata": {},
   "outputs": [
    {
     "data": {
      "text/plain": [
       " 1    150\n",
       "-1     90\n",
       " 0     60\n",
       "Name: sentiment, dtype: int64"
      ]
     },
     "execution_count": 14,
     "metadata": {},
     "output_type": "execute_result"
    }
   ],
   "source": [
    "df.sentiment.value_counts()"
   ]
  },
  {
   "cell_type": "code",
   "execution_count": 15,
   "metadata": {},
   "outputs": [
    {
     "data": {
      "text/plain": [
       "[150, 90, 60]"
      ]
     },
     "execution_count": 15,
     "metadata": {},
     "output_type": "execute_result"
    }
   ],
   "source": [
    "Sentiments_count = list(df.sentiment.value_counts())\n",
    "Sentiments_count"
   ]
  },
  {
   "cell_type": "code",
   "execution_count": 16,
   "metadata": {},
   "outputs": [
    {
     "data": {
      "image/png": "[encoded data removed]",
      "text/plain": [
       "<Figure size 432x288 with 1 Axes>"
      ]
     },
     "metadata": {
      "needs_background": "light"
     },
     "output_type": "display_data"
    }
   ],
   "source": [
    "\n",
    "Sentiments = list(df.sentiment.value_counts(1).values*100)\n",
    "Positive_Sentiment = Sentiments[0]\n",
    "Neutral_Sentiment = Sentiments[1]\n",
    "Negative_Sentiment = Sentiments[2]\n",
    "plt.bar(2,Sentiments_count[0],width = 1, color = 'green', edgecolor = 'black', capsize=7, label='Positive')\n",
    "plt.bar(4,Sentiments_count[1],width = 1, color = 'blue', edgecolor = 'black', capsize=7, label = 'Neutral')\n",
    "plt.bar(6,Sentiments_count[2],width = 1, color = 'red', edgecolor = 'black', capsize=7, label ='Negative')\n",
    "plt.xticks([2,4,6], [Positive_Sentiment, Neutral_Sentiment, Negative_Sentiment],fontweight = 'bold')\n",
    "plt.title('Sentimental Analysis Report',size = 20, fontweight = 'bold')\n",
    "plt.legend()\n",
    "plt.show()"
   ]
  },
  {
   "cell_type": "code",
   "execution_count": 17,
   "metadata": {},
   "outputs": [
    {
     "name": "stdout",
     "output_type": "stream",
     "text": [
      "Politics of #Reservation  \r\n",
      "At a conference in Puri, attendees who were supposedly beneficiaries of reservation, said reservation is a bane for them &amp; it is the responsibility of Indian establmnt to remove reservation to protect their existence &amp; dignity https://t.co/iYem5Y5GPy https://t.co/h1hDjfjQZS\n",
      "Politics of #Reservation  \r\n",
      "At a conference in Puri, attendees who were supposedly beneficiaries of reservation, said reservation is a bane for them &amp; it is the responsibility of Indian establmnt to remove reservation to protect their existence &amp; dignity https://t.co/iYem5Y5GPy https://t.co/h1hDjfjQZS\n",
      "Total Retweets :  160\n"
     ]
    }
   ],
   "source": [
    "#Most Popular Tweet\n",
    "for i in df[df.Retweets == df.Retweets.max()].Tweet:\n",
    "    print(i)\n",
    "print('Total Retweets : ',df.Retweets.max())"
   ]
  },
  {
   "cell_type": "code",
   "execution_count": 18,
   "metadata": {},
   "outputs": [
    {
     "name": "stdout",
     "output_type": "stream",
     "text": [
      "135\n",
      "55\n",
      "110\n"
     ]
    }
   ],
   "source": [
    "#Andorid vs #Iphone\n",
    "Android_User = df[df.Source == 'Twitter for Android'].shape[0]\n",
    "Iphone_User = df[df.Source == 'Twitter for iPhone'].shape[0]\n",
    "Rest = len(df) - (Android_User + Iphone_User)\n",
    "print(Android_User)\n",
    "print(Iphone_User)\n",
    "print(Rest)"
   ]
  },
  {
   "cell_type": "code",
   "execution_count": 19,
   "metadata": {},
   "outputs": [
    {
     "data": {
      "image/png": "[encoded data removed]",
      "text/plain": [
       "<Figure size 864x576 with 1 Axes>"
      ]
     },
     "metadata": {
      "needs_background": "light"
     },
     "output_type": "display_data"
    }
   ],
   "source": [
    "x_pos1 = [0,2,4]\n",
    "y_pos1 = [Android_User,Iphone_User,Rest]\n",
    "\n",
    "plt.rcParams['figure.figsize'] = (12.0, 8.0)\n",
    "plt.bar(x_pos1,y_pos1, width = 1, color = 'blue', edgecolor = 'black', capsize=7)\n",
    "plt.xticks(x_pos1, ['Android_User '+ '(' + str(Android_User) + ')', 'Iphone_User '+'(' + str(Iphone_User)+ ')', 'Rest '+'(' +str(Rest)+ ')'],fontweight = 'bold')\n",
    "plt.title('Tweet Distribution by Device',size = 20, fontweight = 'bold')\n",
    "plt.show()"
   ]
  },
  {
   "cell_type": "code",
   "execution_count": null,
   "metadata": {},
   "outputs": [],
   "source": []
  }
 ],
 "metadata": {
  "kernelspec": {
   "display_name": "Python 3",
   "language": "python",
   "name": "python3"
  },
  "language_info": {
   "codemirror_mode": {
    "name": "ipython",
    "version": 3
   },
   "file_extension": ".py",
   "mimetype": "text/x-python",
   "name": "python",
   "nbconvert_exporter": "python",
   "pygments_lexer": "ipython3",
   "version": "3.7.0"
  }
 },
 "nbformat": 4,
 "nbformat_minor": 2
}
